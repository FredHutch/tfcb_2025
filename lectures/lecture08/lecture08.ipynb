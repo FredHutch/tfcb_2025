{
 "cells": [
  {
   "attachments": {},
   "cell_type": "markdown",
   "metadata": {},
   "source": [
    "# __Lecture 08: Practical analyses in Python__\n",
    "\n",
    "----\n",
    "### **_Be sure to pull the latest notebook!!_**\n",
    "\n",
    "#### __Announcement:__ Homework 3 will be due on October 23\n",
    "\n",
    "#### __Last week, we talked about:__\n",
    "- Python! (e.g. data types, lists, dictionaries, for loops, if statements, etc.)\n",
    "\n",
    "#### __Today we will:__\n",
    "- review for loops and if statements\n",
    "- learn how to define functions in Python\n",
    "- introduce regular expressions and the `re` package\n",
    "\n",
    "###  \n",
    "----"
   ]
  },
  {
   "cell_type": "markdown",
   "metadata": {},
   "source": [
    "# __Review__: Using `for` loops and `if` statements\n",
    "#### Python `for` loops let you repeat a block of code while changing the value of a _looping variable_"
   ]
  },
  {
   "cell_type": "markdown",
   "metadata": {},
   "source": [
    "#### Python `if` statements let you choose between two (or more) outcomes based on a boolean expression "
   ]
  },
  {
   "cell_type": "code",
   "execution_count": null,
   "metadata": {},
   "outputs": [
    {
     "name": "stdout",
     "output_type": "stream",
     "text": [
      "T\n",
      "A\n",
      "C\n",
      "Unknown nucleotide\n",
      "A\n"
     ]
    }
   ],
   "source": [
    "seq2 = \"ATGNT\"\n",
    "\n",
    "# base pairing dictionary\n",
    "base_partner = {\"A\": \"T\", \"T\": \"A\", \"C\": \"G\", \"G\": \"C\"}\n",
    "\n",
    "for base in seq2:\n",
    "    # check if the base is in the dictionary\n",
    "    if base in base_partner:\n",
    "        # look up the complementary base in the dictionary\n",
    "        pair = base_partner[base]\n",
    "        print(pair)\n",
    "    else:\n",
    "        print(\"Unknown nucleotide\")"
   ]
  },
  {
   "cell_type": "markdown",
   "metadata": {},
   "source": [
    "#### The `break` statement gets us out of a loop, while `continue` jumps directly to the next cycle through"
   ]
  },
  {
   "cell_type": "code",
   "execution_count": null,
   "metadata": {},
   "outputs": [
    {
     "name": "stdout",
     "output_type": "stream",
     "text": [
      "C\n",
      "G\n"
     ]
    }
   ],
   "source": [
    "seq3 = \"AAGCNT\"\n",
    "\n",
    "# base pairing dictionary\n",
    "base_partner = {\"A\": \"T\", \"T\": \"A\", \"C\": \"G\", \"G\": \"C\"}\n",
    "\n",
    "for base in seq3:\n",
    "    if base == \"A\":  # A is a bad nucleotide\n",
    "        continue\n",
    "\n",
    "    if base == \"N\":\n",
    "        break\n",
    "\n",
    "    # look up the complementary base in the dictionary\n",
    "    pair = base_partner[base]\n",
    "    print(pair)"
   ]
  },
  {
   "attachments": {},
   "cell_type": "markdown",
   "metadata": {},
   "source": [
    "----\n",
    "# __Defining new functions__\n",
    "#### We use the `def` keyword to define a new function. Functions can take inputs called _\"arguments\"_ or _\"parameters.\"_"
   ]
  },
  {
   "cell_type": "code",
   "execution_count": null,
   "metadata": {},
   "outputs": [
    {
     "name": "stdout",
     "output_type": "stream",
     "text": [
      "8\n"
     ]
    }
   ],
   "source": [
    "def print_sum(a, b):\n",
    "    print(a + b)\n",
    "\n",
    "\n",
    "# This just displays the result, but you can't save it\n",
    "print_sum(3, 5)"
   ]
  },
  {
   "cell_type": "code",
   "execution_count": 4,
   "metadata": {},
   "outputs": [
    {
     "name": "stdout",
     "output_type": "stream",
     "text": [
      "8\n",
      "None\n"
     ]
    }
   ],
   "source": [
    "s = print_sum(3, 5)\n",
    "print(s)"
   ]
  },
  {
   "cell_type": "markdown",
   "metadata": {},
   "source": [
    "#### `return` statements\n",
    "In Python, if you want a function to give back a result that can be saved and used later, you need to include a `return` statement. This is different from just using `print()`, which only displays the output but doesn't allow you to save it as an object. __For example:__"
   ]
  },
  {
   "cell_type": "code",
   "execution_count": null,
   "metadata": {},
   "outputs": [],
   "source": [
    "def add_numbers(a, b):\n",
    "    return a + b\n",
    "\n",
    "\n",
    "# This lets you store the result in a variable\n",
    "result = add_numbers(3, 5)"
   ]
  },
  {
   "cell_type": "code",
   "execution_count": 6,
   "metadata": {},
   "outputs": [
    {
     "name": "stdout",
     "output_type": "stream",
     "text": [
      "8\n"
     ]
    }
   ],
   "source": [
    "print(result)"
   ]
  },
  {
   "attachments": {},
   "cell_type": "markdown",
   "metadata": {},
   "source": [
    "#### Using `for` loops and `if` statements within functions\n",
    "\n",
    "We will often use these within our functions to efficiently construct new lists or dictionaries from existing iterables. __For example:__"
   ]
  },
  {
   "cell_type": "code",
   "execution_count": null,
   "metadata": {},
   "outputs": [],
   "source": [
    "def reverse_complement(seq):\n",
    "    \"\"\"returns the reverse complement of a nucleic acid sequence\"\"\"\n",
    "    base_partner = {\"A\": \"T\", \"T\": \"A\", \"C\": \"G\", \"G\": \"C\"}\n",
    "    bwd = \"\"\n",
    "    # iterate through all bases in the sequence\n",
    "    for base in seq:\n",
    "        # look up the complementary base in the dictionary\n",
    "        pair = base_partner[base]\n",
    "        # add the complementary base to the beginning of the string (reverse comp)\n",
    "        bwd = pair + bwd\n",
    "    return bwd"
   ]
  },
  {
   "cell_type": "code",
   "execution_count": null,
   "metadata": {},
   "outputs": [
    {
     "name": "stdout",
     "output_type": "stream",
     "text": [
      "forward: ACGGTAATGATCCTCAG\n",
      "reverse comp: CTGAGGATCATTACCGT\n"
     ]
    }
   ],
   "source": [
    "fwd = \"ACGGTAATGATCCTCAG\"\n",
    "rev = reverse_complement(fwd)\n",
    "\n",
    "print(\"forward:\", fwd)\n",
    "print(\"reverse comp:\", rev)"
   ]
  },
  {
   "attachments": {},
   "cell_type": "markdown",
   "metadata": {},
   "source": [
    "#### Optional function arguments\n",
    "\n",
    "Functions can have OPTIONAL ARGUMENTS whose DEFAULT VALUES are pre-specified in the function definition."
   ]
  },
  {
   "cell_type": "code",
   "execution_count": null,
   "metadata": {},
   "outputs": [],
   "source": [
    "def reverse_complement(seq, unk_partner=\"N\"):\n",
    "    \"\"\"Returns the reverse complement of a nucleic acid sequence\n",
    "\n",
    "    Uses unk_partner as the partner of unrecognized letters\n",
    "    \"\"\"\n",
    "    base_partner = {\"A\": \"T\", \"T\": \"A\", \"C\": \"G\", \"G\": \"C\"}\n",
    "    rseq = \"\"\n",
    "    # iterate through all bases in the sequence\n",
    "    for a in seq:\n",
    "        # check if the base is in the dictionary\n",
    "        if a in base_partner:\n",
    "            # look up the complementary base in the dictionary\n",
    "            pair = base_partner[a]\n",
    "            # add the complementary base to the beginning of the string (reverse comp)\n",
    "            rseq = pair + rseq\n",
    "        else:\n",
    "            rseq = unk_partner + rseq\n",
    "    return rseq"
   ]
  },
  {
   "cell_type": "code",
   "execution_count": null,
   "metadata": {},
   "outputs": [
    {
     "data": {
      "text/plain": [
       "'GTCGNANTCNGCTACAGT'"
      ]
     },
     "execution_count": 10,
     "metadata": {},
     "output_type": "execute_result"
    }
   ],
   "source": [
    "fwd = \"ACTGTAGCxGAcTNCGAC\"\n",
    "\n",
    "reverse_complement(fwd)"
   ]
  },
  {
   "cell_type": "code",
   "execution_count": null,
   "metadata": {},
   "outputs": [
    {
     "data": {
      "text/plain": [
       "'GTCG-A-TC-GCTACAGT'"
      ]
     },
     "execution_count": 11,
     "metadata": {},
     "output_type": "execute_result"
    }
   ],
   "source": [
    "reverse_complement(fwd, unk_partner=\"-\")"
   ]
  },
  {
   "attachments": {},
   "cell_type": "markdown",
   "metadata": {},
   "source": [
    "#### Viewing the function docstring and source code\n",
    "Try using `reverse_complement??` to see the docstring and source code of our new function. "
   ]
  },
  {
   "cell_type": "code",
   "execution_count": 12,
   "metadata": {},
   "outputs": [
    {
     "name": "stdout",
     "output_type": "stream",
     "text": [
      "\u001b[31mSignature:\u001b[39m reverse_complement(seq, unk_partner=\u001b[33m'N'\u001b[39m)\n",
      "\u001b[31mSource:\u001b[39m   \n",
      "\u001b[38;5;28;01mdef\u001b[39;00m reverse_complement(seq, unk_partner=\u001b[33m'N'\u001b[39m):\n",
      "    \u001b[33m\"\"\"Returns the reverse complement of a nucleic acid sequence\u001b[39m\n",
      "\n",
      "\u001b[33m    Uses unk_partner as the partner of unrecognized letters\u001b[39m\n",
      "\u001b[33m    \"\"\"\u001b[39m\n",
      "    base_partner = {\u001b[33m'A'\u001b[39m:\u001b[33m'T'\u001b[39m, \u001b[33m'T'\u001b[39m:\u001b[33m'A'\u001b[39m, \u001b[33m'C'\u001b[39m:\u001b[33m'G'\u001b[39m, \u001b[33m'G'\u001b[39m:\u001b[33m'C'\u001b[39m}\n",
      "    rseq = \u001b[33m''\u001b[39m\n",
      "    \u001b[38;5;66;03m# iterate through all bases in the sequence\u001b[39;00m\n",
      "    \u001b[38;5;28;01mfor\u001b[39;00m a \u001b[38;5;28;01min\u001b[39;00m seq:\n",
      "        \u001b[38;5;66;03m# check if the base is in the dictionary\u001b[39;00m\n",
      "        \u001b[38;5;28;01mif\u001b[39;00m a \u001b[38;5;28;01min\u001b[39;00m base_partner:\n",
      "            \u001b[38;5;66;03m# look up the complementary base in the dictionary\u001b[39;00m\n",
      "            pair = base_partner[a]\n",
      "            \u001b[38;5;66;03m# add the complementary base to the beginning of the string (reverse comp)\u001b[39;00m\n",
      "            rseq = pair + rseq\n",
      "        \u001b[38;5;28;01melse\u001b[39;00m:\n",
      "            rseq = unk_partner + rseq\n",
      "    \u001b[38;5;28;01mreturn\u001b[39;00m rseq\n",
      "\u001b[31mFile:\u001b[39m      /var/folders/_z/fcp2sn_92g5102xwrhmy4bzr0000gp/T/ipykernel_53355/1181038541.py\n",
      "\u001b[31mType:\u001b[39m      function"
     ]
    }
   ],
   "source": [
    "reverse_complement??"
   ]
  },
  {
   "attachments": {},
   "cell_type": "markdown",
   "metadata": {},
   "source": [
    "-----\n",
    "# __Practice defining functions:__\n",
    "\n",
    "#### Write a function that uses a dictionary to count the number of times each base occurs.\n",
    "Be sure to account for sequences that contain uppercase and lowercase bases. I've provided an empty function here (with some docstrings already written). Use the provided test cases check your work."
   ]
  },
  {
   "cell_type": "code",
   "execution_count": null,
   "metadata": {},
   "outputs": [],
   "source": [
    "def count_bases(seq, case=\"upper\"):\n",
    "    \"\"\"Count the number of times each base occurs in the sequence.\n",
    "\n",
    "    Parameters\n",
    "    ----------\n",
    "    seq : string\n",
    "        DNA sequence.\n",
    "    case : string, optional\n",
    "        Specifies the case in which to count the bases. Default is 'upper'.\n",
    "\n",
    "    Returns\n",
    "    -------\n",
    "    dict\n",
    "        Keyed by each nucleotide, value is number of times the nucleotide\n",
    "        is observed in the sequence.\n",
    "\n",
    "    HINT: <object>.upper() will convert the <object> string to uppercase\n",
    "\n",
    "    \"\"\"\n",
    "\n",
    "    assert case in [\"lower\", \"upper\"], \"case needs to be either lower or upper\"\n",
    "\n",
    "    base_counts = {}\n",
    "\n",
    "    if case == \"upper\":\n",
    "        new_seq = seq.upper()\n",
    "    elif case == \"lower\":\n",
    "        new_seq = seq.lower()\n",
    "\n",
    "    for base in new_seq:\n",
    "        if base in base_counts:\n",
    "            base_counts[base] += 1\n",
    "        else:\n",
    "            base_counts[base] = 1\n",
    "\n",
    "    return base_counts\n",
    "\n",
    "    return None"
   ]
  },
  {
   "cell_type": "code",
   "execution_count": null,
   "metadata": {},
   "outputs": [
    {
     "data": {
      "text/plain": [
       "{'A': 2, 'T': 2, 'X': 2, 'G': 2, 'C': 1}"
      ]
     },
     "execution_count": 14,
     "metadata": {},
     "output_type": "execute_result"
    }
   ],
   "source": [
    "count_bases(\"AATXXGGCT\")"
   ]
  },
  {
   "cell_type": "code",
   "execution_count": null,
   "metadata": {},
   "outputs": [
    {
     "data": {
      "text/plain": [
       "{'a': 2, 't': 3, 'g': 2, 'c': 1}"
      ]
     },
     "execution_count": 15,
     "metadata": {},
     "output_type": "execute_result"
    }
   ],
   "source": [
    "count_bases(\"aatTGGcT\", case=\"lower\")"
   ]
  },
  {
   "cell_type": "code",
   "execution_count": null,
   "metadata": {},
   "outputs": [
    {
     "ename": "AssertionError",
     "evalue": "case needs to be either lower or upper",
     "output_type": "error",
     "traceback": [
      "\u001b[31m---------------------------------------------------------------------------\u001b[39m",
      "\u001b[31mAssertionError\u001b[39m                            Traceback (most recent call last)",
      "\u001b[36mCell\u001b[39m\u001b[36m \u001b[39m\u001b[32mIn[16]\u001b[39m\u001b[32m, line 1\u001b[39m\n\u001b[32m----> \u001b[39m\u001b[32m1\u001b[39m \u001b[43mcount_bases\u001b[49m\u001b[43m(\u001b[49m\u001b[33;43m'\u001b[39;49m\u001b[33;43mATGCG\u001b[39;49m\u001b[33;43m'\u001b[39;49m\u001b[43m,\u001b[49m\u001b[43m \u001b[49m\u001b[43mcase\u001b[49m\u001b[43m \u001b[49m\u001b[43m=\u001b[49m\u001b[43m \u001b[49m\u001b[33;43m\"\u001b[39;49m\u001b[33;43municorn\u001b[39;49m\u001b[33;43m\"\u001b[39;49m\u001b[43m)\u001b[49m\n",
      "\u001b[36mCell\u001b[39m\u001b[36m \u001b[39m\u001b[32mIn[13]\u001b[39m\u001b[32m, line 21\u001b[39m, in \u001b[36mcount_bases\u001b[39m\u001b[34m(seq, case)\u001b[39m\n\u001b[32m      1\u001b[39m \u001b[38;5;28;01mdef\u001b[39;00m\u001b[38;5;250m \u001b[39m\u001b[34mcount_bases\u001b[39m(seq, case=\u001b[33m'\u001b[39m\u001b[33mupper\u001b[39m\u001b[33m'\u001b[39m):\n\u001b[32m      2\u001b[39m \u001b[38;5;250m    \u001b[39m\u001b[33;03m\"\"\"Count the number of times each base occurs in the sequence.\u001b[39;00m\n\u001b[32m      3\u001b[39m \n\u001b[32m      4\u001b[39m \u001b[33;03m    Parameters\u001b[39;00m\n\u001b[32m   (...)\u001b[39m\u001b[32m     18\u001b[39m \n\u001b[32m     19\u001b[39m \u001b[33;03m    \"\"\"\u001b[39;00m\n\u001b[32m---> \u001b[39m\u001b[32m21\u001b[39m     \u001b[38;5;28;01massert\u001b[39;00m case \u001b[38;5;129;01min\u001b[39;00m [\u001b[33m\"\u001b[39m\u001b[33mlower\u001b[39m\u001b[33m\"\u001b[39m, \u001b[33m\"\u001b[39m\u001b[33mupper\u001b[39m\u001b[33m\"\u001b[39m], \u001b[33m\"\u001b[39m\u001b[33mcase needs to be either lower or upper\u001b[39m\u001b[33m\"\u001b[39m\n\u001b[32m     23\u001b[39m     base_counts = {}\n\u001b[32m     25\u001b[39m     \u001b[38;5;28;01mif\u001b[39;00m case == \u001b[33m\"\u001b[39m\u001b[33mupper\u001b[39m\u001b[33m\"\u001b[39m:\n",
      "\u001b[31mAssertionError\u001b[39m: case needs to be either lower or upper"
     ]
    }
   ],
   "source": [
    "count_bases(\"ATGCG\", case=\"unicorn\")"
   ]
  },
  {
   "cell_type": "markdown",
   "metadata": {},
   "source": [
    "-----\n",
    "#### Functions can call other functions and modules\n",
    "\n",
    "Python has an extensive collection of built-in **modules** which contain all sorts of useful special purpose functions and objects. A few favorites:\n",
    "\n",
    "* `math`: mathematical functions and constants\n",
    "* `os`: access to operating system routines (e.g., `os.path.exists` function to check if a file exists)\n",
    "* `random`: random number generators\n",
    "* `re`: regular expression searches _(today!)_\n",
    "* `biopython`: biology-related functionalities _(Thursday!)_\n",
    "\n",
    "[The full list is here](https://docs.python.org/3/library/)"
   ]
  },
  {
   "cell_type": "code",
   "execution_count": null,
   "metadata": {},
   "outputs": [],
   "source": [
    "# Here we are \"importing\" a module called math which contains some math-y functions like sqrt and log\n",
    "import math\n",
    "\n",
    "\n",
    "def log_sqrt(num):\n",
    "    \"\"\"Take the log of the sqrt of a number\"\"\"\n",
    "\n",
    "    # get the square root\n",
    "    sqrt_value = math.sqrt(num)\n",
    "\n",
    "    # take the log\n",
    "    log_value = math.log(sqrt_value)\n",
    "\n",
    "    return log_value"
   ]
  },
  {
   "cell_type": "code",
   "execution_count": 18,
   "metadata": {},
   "outputs": [
    {
     "data": {
      "text/plain": [
       "2.4101407828025185"
      ]
     },
     "execution_count": 18,
     "metadata": {},
     "output_type": "execute_result"
    }
   ],
   "source": [
    "log_sqrt(124)"
   ]
  },
  {
   "cell_type": "markdown",
   "metadata": {},
   "source": [
    "----\n",
    "# __Searching for patterns__\n",
    "As we start working with sequencing data, we will want to be able to search the sequence for patterns of interest. \n",
    "\n",
    "Last week, we learned that you can search for substrings within a string like this: "
   ]
  },
  {
   "cell_type": "code",
   "execution_count": null,
   "metadata": {},
   "outputs": [
    {
     "data": {
      "text/plain": [
       "True"
      ]
     },
     "execution_count": 19,
     "metadata": {},
     "output_type": "execute_result"
    }
   ],
   "source": [
    "seq = \"ATTCCGAAA\"\n",
    "subseq = \"GAA\"\n",
    "\n",
    "# we can use the in keyword\n",
    "subseq in seq"
   ]
  },
  {
   "cell_type": "markdown",
   "metadata": {},
   "source": [
    "Sometimes, we may want to search for more general patterns and/or patterns that occur multiple times. That's where regular expressions come in..."
   ]
  },
  {
   "attachments": {},
   "cell_type": "markdown",
   "metadata": {},
   "source": [
    "---\n",
    "# __New module:__  Regular expressions\n",
    "\n",
    "#### A __regular expression__ is a sequence of characters that forms a __search pattern__.\n",
    "They can be used to check if a string contains the specified search pattern.\n",
    "This is particularly useful when parsing strings\n",
    "\n",
    "The `re` package offers a set of functions that allows us to search a string for a match using \"regular expressions\". \n",
    "The main functions we will be using are called `search` which allows us to find string matches at any position in the string.\n",
    "We can search for a pattern in a string like this:"
   ]
  },
  {
   "cell_type": "code",
   "execution_count": null,
   "metadata": {},
   "outputs": [
    {
     "name": "stdout",
     "output_type": "stream",
     "text": [
      "<re.Match object; span=(5, 8), match='GAA'>\n",
      "GAA\n"
     ]
    }
   ],
   "source": [
    "import re\n",
    "\n",
    "# This is an example string\n",
    "seq = \"ATTCCGAAA\"\n",
    "\n",
    "# compile the search pattern\n",
    "search_pattern = re.compile(\"GAA\")\n",
    "\n",
    "# use the search pattern to search the sequence\n",
    "match = search_pattern.search(seq)\n",
    "\n",
    "print(match)\n",
    "\n",
    "# extract your match\n",
    "print(match.group())"
   ]
  },
  {
   "cell_type": "markdown",
   "metadata": {},
   "source": [
    "However, the `re` package allows us to define more general search patterns. Here are some common elements you may want to search for:\n",
    "\n",
    "* **Specific patterns:**\n",
    "    * **Specific letter characters** (e.g., `A`, `B`, `C`, ...): Matches any occurrence of the specified letter in the string.\n",
    "    * **Specific numerical digits** (e.g., `1`, `2`, `3`, ...): Matches any occurrence of the specified digit.\n",
    "    * **Specific special characters** (e.g., `*`, `$`, ...): Matches any occurrence of the specified special character. Special characters need to be preceded by a `\\` (e.g., `\\.` for a period, `\\$` for a dollar sign).\n",
    "  \n",
    "* **General patterns:**\n",
    "    * **Numerical digits**: `\\d` matches any digit (numbers `0`–`9`).\n",
    "    * **Any single character**: `.` matches _any_ single character.\n",
    "    * **Any letter or character from a set**: `[]` allows you to specify a set of characters to search for (e.g., `[a-n]` matches any lowercase letter from `a` to `n`).\n",
    "    * **One or more occurrences**: `+` specifies one or more occurrences of the preceding pattern (e.g., `a+` matches \"a\", \"aa\", etc.).\n",
    "    * **Exact number of occurrences**: `{}` specifies an exact number of occurrences of the preceding pattern (e.g., `a{6}` matches exactly six \"a\" characters).\n",
    "\n",
    "* **Anchors for start/end of string**:\n",
    "    * **End of string**: `$` matches the end of the string (e.g., `\\d$` matches a string that ends with a digit).\n",
    "    * **Beginning of string**: `^` matches the beginning of the string (e.g., `^A` matches any string that starts with \"A\").\n",
    "\n",
    "\n",
    "There are lots of handy special codes in the Python regular expression module (see [here](https://docs.python.org/3.7/library/re.html)), and you can use them to do almost any type of string matching.\n",
    "\n",
    "You can test your regular expression calls using [this website](https://regex101.com).\n",
    "ChatGPT is fairly good at regular expressions too!"
   ]
  },
  {
   "cell_type": "markdown",
   "metadata": {},
   "source": [
    "#### Example:\n",
    "Here is a common example dealing with influenza.\n",
    "You download some strains from the database, and they have names that look like this:"
   ]
  },
  {
   "cell_type": "code",
   "execution_count": null,
   "metadata": {},
   "outputs": [],
   "source": [
    "strain = \"A/New York/3/1994 (H3N2)\""
   ]
  },
  {
   "attachments": {},
   "cell_type": "markdown",
   "metadata": {},
   "source": [
    "Say you want to get some information out of these, like the year. Let's build a regular expression that gets the year out of `strain`:"
   ]
  },
  {
   "cell_type": "code",
   "execution_count": 27,
   "metadata": {},
   "outputs": [
    {
     "data": {
      "text/plain": [
       "<re.Match object; span=(13, 17), match='1994'>"
      ]
     },
     "execution_count": 27,
     "metadata": {},
     "output_type": "execute_result"
    }
   ],
   "source": [
    "import re\n",
    "\n",
    "# compile a re for the year\n",
    "yearmatch = re.compile(r\"\\d{4}\")\n",
    "\n",
    "# search for the search pattern in the string\n",
    "match = yearmatch.search(strain)\n",
    "\n",
    "# return our search pattern match\n",
    "match"
   ]
  },
  {
   "attachments": {},
   "cell_type": "markdown",
   "metadata": {},
   "source": [
    "#### Adding __groups__ and __names__ to search patterns\n",
    "\n",
    "Sometimes you may want to group parts of a search pattern or create named groups for easier reference. Here's how:\n",
    "\n",
    "* **Grouping patterns**: `()` is used to group part of your search pattern. Everything inside the parentheses is treated as a single unit, and you can capture and reference this group.\n",
    "* **Named groups**: `(?P<name>...)` defines a named group with the specified name, allowing you to reference this part of the match later (e.g., `(?P<name>\\d{4})` for a four-digit year)."
   ]
  },
  {
   "cell_type": "code",
   "execution_count": null,
   "metadata": {},
   "outputs": [
    {
     "name": "stdout",
     "output_type": "stream",
     "text": [
      "<re.Match object; span=(12, 17), match='/1994'>\n"
     ]
    }
   ],
   "source": [
    "# compile a named re for the year\n",
    "## here, we are searching for 4 digits that are preceded by the / character\n",
    "named_yearmatch = re.compile(r\"\\/(?P<year>\\d{4})\")\n",
    "\n",
    "# search for the search pattern in the string\n",
    "named_search = named_yearmatch.search(strain)\n",
    "\n",
    "print(named_search)"
   ]
  },
  {
   "cell_type": "code",
   "execution_count": null,
   "metadata": {},
   "outputs": [
    {
     "name": "stdout",
     "output_type": "stream",
     "text": [
      "1994\n"
     ]
    }
   ],
   "source": [
    "# isolate named pattern\n",
    "year = named_search.group(\"year\")\n",
    "\n",
    "print(year)"
   ]
  },
  {
   "attachments": {},
   "cell_type": "markdown",
   "metadata": {},
   "source": [
    "----\n",
    "### __Practice:__ \n",
    "\n",
    "#### Let's build a regular expression that gets the subtype (e.g. `H3N2`) out the `strain` object\n",
    "\n",
    "_Hints:_\n",
    "- _Be sure to name the search pattern `subtype`_\n",
    "- _Include the parentheses in your search pattern, but not in the final named search pattern_"
   ]
  },
  {
   "cell_type": "code",
   "execution_count": 36,
   "metadata": {},
   "outputs": [
    {
     "name": "stdout",
     "output_type": "stream",
     "text": [
      "<re.Match object; span=(18, 24), match='(H3N2)'>\n",
      "H3N2\n"
     ]
    }
   ],
   "source": [
    "pattern = re.compile(r\"\\((?P<subtype>[A-Z]\\d+[A-Z]\\d+)\\)\")\n",
    "\n",
    "pattern_match = pattern.search(strain)\n",
    "\n",
    "print(pattern_match)\n",
    "\n",
    "print(pattern_match.group(\"subtype\"))"
   ]
  },
  {
   "attachments": {},
   "cell_type": "markdown",
   "metadata": {},
   "source": [
    "----\n",
    "### __Practice:__\n",
    "\n",
    "#### Using regular expressions to parse barcodes\n",
    "\n",
    "Now we will use regular expressions to parse barcodes from nucleotide sequences.\n",
    "For instance, you might have to do this in a single-cell RNA-seq experiment where there is a barcode at the end of each read telling you the cell that the read came from.\n",
    "\n",
    "Imagine that our valid molecules should have sequences like this:\n",
    "\n",
    "`CTAGCNNNNNNGATCA`\n",
    "\n",
    "See how there is a 6-nucleotide barcode in the center of the sequence.\n",
    "We have a list of sequences, and want to parse through them to figure out which ones meet the expected pattern--and get the barcode from those that do:"
   ]
  },
  {
   "cell_type": "code",
   "execution_count": 38,
   "metadata": {},
   "outputs": [],
   "source": [
    "seqs = [\n",
    "    \"CTAGCatcgatGATCA\",  # has barcode ATCGAT\n",
    "    \"CCAGCatagcaGATCA\",  # does not have expected 5' sequence\n",
    "    \"CTAGCtacagGATCA\",  # barcode too short\n",
    "    \"CTAGCgaccatGATCA\",  # has barcode GACCAT\n",
    "    \"CTAGCatcgatGATCA\",  # has barcode ATCGAT\n",
    "    \"CTAGCatcgatGGTCA\",  # does not have expected 3' sequence\n",
    "]"
   ]
  },
  {
   "cell_type": "markdown",
   "metadata": {},
   "source": [
    "#### __Part 1__\n",
    "First, take a few minutes in groups to write a search pattern that will match the valid barcodes from these sequences.\n",
    "When doing this, note that:\n",
    "\n",
    "- You will want to __group__ and __name__ the barcode portion of the search pattern\n",
    "- You will want to __include the fixed upstream (CTAGC) and downstream (GATCA) portions__ of the sequence in your search pattern, but not as part of the barcode subgroup"
   ]
  },
  {
   "cell_type": "code",
   "execution_count": 39,
   "metadata": {},
   "outputs": [
    {
     "name": "stdout",
     "output_type": "stream",
     "text": [
      "ATCGAT\n",
      "no match\n",
      "no match\n",
      "GACCAT\n",
      "ATCGAT\n",
      "no match\n"
     ]
    }
   ],
   "source": [
    "pat = re.compile(\"CTAGC(?P<barcode>[A-Z]{6})GATCA\")\n",
    "\n",
    "for seq in seqs:\n",
    "    upperseq = seq.upper()\n",
    "    m = pat.search(upperseq)\n",
    "    if m is None:\n",
    "        print(\"no match\")\n",
    "    else:\n",
    "        print(m.group(\"barcode\"))"
   ]
  },
  {
   "cell_type": "markdown",
   "metadata": {},
   "source": [
    "#### __Part 2__\n",
    "\n",
    "Now, modify your code to create a function that parses barcoded sequences, extracts those with valid barcodes, and keeps track of the counts associated with each barcode (using a dictionary). \n",
    "This requires setting up your function so that it does the following:\n",
    "\n",
    " 1. Converts each sequence to uppercase (using `s.upper()`)\n",
    " 2. Searches the string for a specified search pattern\n",
    " 3. Determines if it matches the expected pattern (with the correct length barcode and constant upstream/downstream sequences)\n",
    " 3. If it matches, extracts the barcode and add it to a dictionary to keep track of counts\n",
    "\n",
    "A few notes to keep in mind:\n",
    "- You may want to search from the start of the string (use the `^` symbol in your search pattern).\n",
    "- The barcode length, upstream sequence, and downstream sequence should be passed as function arguments with default values, rather than being fixed. You’ll need to generalize your search pattern from above to accommodate these variable inputs (e.g., by adding strings and variables together).\n",
    "\n",
    "I’ve provided the function documentation below—try to implement it.\n",
    "__Take a few minutes to work through this in groups.__"
   ]
  },
  {
   "cell_type": "code",
   "execution_count": 42,
   "metadata": {},
   "outputs": [],
   "source": [
    "def count_barcodes(seqs, bclen=6, upstream=\"CTAGC\", downstream=\"GATCA\"):\n",
    "    \"\"\"Parse and count barcodes.\n",
    "\n",
    "    Parameters\n",
    "    ----------\n",
    "    seqs : list\n",
    "        DNA sequences.\n",
    "    bclen : int\n",
    "        Length of barcode\n",
    "    upstream : str\n",
    "        Sequence upstream of barcode.\n",
    "    downstream : str\n",
    "        Sequence downstream of barcode.\n",
    "\n",
    "    Returns\n",
    "    -------\n",
    "    dict\n",
    "        Keyed by each valid barcode, value is number of times the barcode\n",
    "        is observed.\n",
    "\n",
    "    Note\n",
    "    ----\n",
    "    The function is **not** case-sensitive, and all barcodes are reported\n",
    "    in upper-case.\n",
    "\n",
    "    \"\"\"\n",
    "\n",
    "    counts = {}\n",
    "\n",
    "    pat = re.compile(upstream + \"(?P<barcode>[A-Z]{\" + str(bclen) + \"})\" + downstream)\n",
    "\n",
    "    for seq in seqs:\n",
    "        upperseq = seq.upper()\n",
    "\n",
    "        match = pat.search(upperseq)\n",
    "\n",
    "        if match is None:\n",
    "            continue\n",
    "\n",
    "        barcode = match.group(\"barcode\")\n",
    "\n",
    "        if barcode in counts:\n",
    "            counts[barcode] = counts[barcode] + 1\n",
    "        else:\n",
    "            counts[barcode] = 1\n",
    "\n",
    "    return counts"
   ]
  },
  {
   "cell_type": "markdown",
   "metadata": {},
   "source": [
    "Run the function once you've implemented it. Does it give the right result?"
   ]
  },
  {
   "cell_type": "code",
   "execution_count": 43,
   "metadata": {},
   "outputs": [
    {
     "data": {
      "text/plain": [
       "{'ATCGAT': 2, 'GACCAT': 1}"
      ]
     },
     "execution_count": 43,
     "metadata": {},
     "output_type": "execute_result"
    }
   ],
   "source": [
    "count_barcodes(seqs)"
   ]
  },
  {
   "cell_type": "code",
   "execution_count": null,
   "metadata": {},
   "outputs": [],
   "source": []
  }
 ],
 "metadata": {
  "kernelspec": {
   "display_name": "hermes",
   "language": "python",
   "name": "python3"
  },
  "language_info": {
   "codemirror_mode": {
    "name": "ipython",
    "version": 3
   },
   "file_extension": ".py",
   "mimetype": "text/x-python",
   "name": "python",
   "nbconvert_exporter": "python",
   "pygments_lexer": "ipython3",
   "version": "3.12.3"
  },
  "toc": {
   "nav_menu": {},
   "number_sections": false,
   "sideBar": true,
   "skip_h1_title": false,
   "toc_cell": false,
   "toc_position": {
    "height": "623.8px",
    "left": "0px",
    "right": "829.6px",
    "top": "33.2px",
    "width": "322.4px"
   },
   "toc_section_display": "block",
   "toc_window_display": true
  }
 },
 "nbformat": 4,
 "nbformat_minor": 4
}
